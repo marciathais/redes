{
 "cells": [
  {
   "cell_type": "markdown",
   "id": "49cd9cc8",
   "metadata": {},
   "source": [
    "# Introdução a Modulação Digital com Áudio"
   ]
  },
  {
   "cell_type": "markdown",
   "id": "c8b01a08",
   "metadata": {},
   "source": [
    "⚠️ Esse codigo não funciona em maquinas virtuais ou no WSL\n",
    "\n",
    "\n",
    "Sobre esse Laboratório:\n",
    "\n",
    "- [Setup](#setup)\n",
    "- [Parametros e Bibliotecas](#parametros-de-configurações)\n",
    "- [Funções e Metodos](#funções)\n",
    "- [O Laboratório](#o-laboratório)\n",
    "    1. [Etapa 1: Compreendendo com a Codificação/Modulação de dados](#etapa-1-compreendendo-com-a-codificaçãomodulação-de-dados)\n",
    "    1. [Etapa 2: Decodificação](#etapa-2-decodificação)\n",
    "    1. [Etapa 3: Impacto do Ruído na Comunicação](#etapa-3-impacto-do-ruído-na-comunicação)\n",
    "    1. [Etapa 4: Decodificação no mundo real](#etapa-4-decodificação-no-mundo-real)\n",
    "\n"
   ]
  },
  {
   "cell_type": "markdown",
   "id": "37de3466",
   "metadata": {},
   "source": [
    "## Setup"
   ]
  },
  {
   "cell_type": "markdown",
   "id": "8547a4cd",
   "metadata": {},
   "source": [
    "⚠️ **Atenção** : Execute o código abaixo **apenas uma vez** para realizar a configuração inicial do ambiente."
   ]
  },
  {
   "cell_type": "code",
   "execution_count": 1,
   "id": "4bdba3da",
   "metadata": {},
   "outputs": [
    {
     "name": "stdout",
     "output_type": "stream",
     "text": [
      "Collecting numpy\n",
      "  Using cached numpy-2.3.1-cp312-cp312-manylinux_2_28_x86_64.whl.metadata (62 kB)\n",
      "Collecting matplotlib\n",
      "  Using cached matplotlib-3.10.3-cp312-cp312-manylinux_2_17_x86_64.manylinux2014_x86_64.whl.metadata (11 kB)\n",
      "Collecting soundfile\n",
      "  Using cached soundfile-0.13.1-py2.py3-none-manylinux_2_28_x86_64.whl.metadata (16 kB)\n",
      "Collecting sounddevice\n",
      "  Using cached sounddevice-0.5.2-py3-none-any.whl.metadata (1.6 kB)\n",
      "Collecting scipy\n",
      "  Using cached scipy-1.16.0-cp312-cp312-manylinux2014_x86_64.manylinux_2_17_x86_64.whl.metadata (61 kB)\n",
      "Collecting contourpy>=1.0.1 (from matplotlib)\n",
      "  Using cached contourpy-1.3.2-cp312-cp312-manylinux_2_17_x86_64.manylinux2014_x86_64.whl.metadata (5.5 kB)\n",
      "Collecting cycler>=0.10 (from matplotlib)\n",
      "  Using cached cycler-0.12.1-py3-none-any.whl.metadata (3.8 kB)\n",
      "Collecting fonttools>=4.22.0 (from matplotlib)\n",
      "  Using cached fonttools-4.58.4-cp312-cp312-manylinux1_x86_64.manylinux2014_x86_64.manylinux_2_17_x86_64.manylinux_2_5_x86_64.whl.metadata (106 kB)\n",
      "Collecting kiwisolver>=1.3.1 (from matplotlib)\n",
      "  Using cached kiwisolver-1.4.8-cp312-cp312-manylinux_2_17_x86_64.manylinux2014_x86_64.whl.metadata (6.2 kB)\n",
      "Requirement already satisfied: packaging>=20.0 in ./.venv/lib/python3.12/site-packages (from matplotlib) (25.0)\n",
      "Collecting pillow>=8 (from matplotlib)\n",
      "  Using cached pillow-11.3.0-cp312-cp312-manylinux_2_27_x86_64.manylinux_2_28_x86_64.whl.metadata (9.0 kB)\n",
      "Collecting pyparsing>=2.3.1 (from matplotlib)\n",
      "  Using cached pyparsing-3.2.3-py3-none-any.whl.metadata (5.0 kB)\n",
      "Requirement already satisfied: python-dateutil>=2.7 in ./.venv/lib/python3.12/site-packages (from matplotlib) (2.9.0.post0)\n",
      "Collecting cffi>=1.0 (from soundfile)\n",
      "  Using cached cffi-1.17.1-cp312-cp312-manylinux_2_17_x86_64.manylinux2014_x86_64.whl.metadata (1.5 kB)\n",
      "Collecting pycparser (from cffi>=1.0->soundfile)\n",
      "  Using cached pycparser-2.22-py3-none-any.whl.metadata (943 bytes)\n",
      "Requirement already satisfied: six>=1.5 in ./.venv/lib/python3.12/site-packages (from python-dateutil>=2.7->matplotlib) (1.17.0)\n",
      "Using cached numpy-2.3.1-cp312-cp312-manylinux_2_28_x86_64.whl (16.6 MB)\n",
      "Using cached matplotlib-3.10.3-cp312-cp312-manylinux_2_17_x86_64.manylinux2014_x86_64.whl (8.6 MB)\n",
      "Using cached soundfile-0.13.1-py2.py3-none-manylinux_2_28_x86_64.whl (1.3 MB)\n",
      "Using cached sounddevice-0.5.2-py3-none-any.whl (32 kB)\n",
      "Using cached scipy-1.16.0-cp312-cp312-manylinux2014_x86_64.manylinux_2_17_x86_64.whl (35.1 MB)\n",
      "Using cached cffi-1.17.1-cp312-cp312-manylinux_2_17_x86_64.manylinux2014_x86_64.whl (479 kB)\n",
      "Using cached contourpy-1.3.2-cp312-cp312-manylinux_2_17_x86_64.manylinux2014_x86_64.whl (323 kB)\n",
      "Using cached cycler-0.12.1-py3-none-any.whl (8.3 kB)\n",
      "Using cached fonttools-4.58.4-cp312-cp312-manylinux1_x86_64.manylinux2014_x86_64.manylinux_2_17_x86_64.manylinux_2_5_x86_64.whl (4.9 MB)\n",
      "Using cached kiwisolver-1.4.8-cp312-cp312-manylinux_2_17_x86_64.manylinux2014_x86_64.whl (1.5 MB)\n",
      "Using cached pillow-11.3.0-cp312-cp312-manylinux_2_27_x86_64.manylinux_2_28_x86_64.whl (6.6 MB)\n",
      "Using cached pyparsing-3.2.3-py3-none-any.whl (111 kB)\n",
      "Using cached pycparser-2.22-py3-none-any.whl (117 kB)\n",
      "Installing collected packages: pyparsing, pycparser, pillow, numpy, kiwisolver, fonttools, cycler, scipy, contourpy, cffi, soundfile, sounddevice, matplotlib\n",
      "\u001b[2K   \u001b[90m━━━━━━━━━━━━━━━━━━━━━━━━━━━━━━━━━━━━━━━━\u001b[0m \u001b[32m13/13\u001b[0m [matplotlib]3\u001b[0m [matplotlib]\n",
      "\u001b[1A\u001b[2KSuccessfully installed cffi-1.17.1 contourpy-1.3.2 cycler-0.12.1 fonttools-4.58.4 kiwisolver-1.4.8 matplotlib-3.10.3 numpy-2.3.1 pillow-11.3.0 pycparser-2.22 pyparsing-3.2.3 scipy-1.16.0 sounddevice-0.5.2 soundfile-0.13.1\n"
     ]
    }
   ],
   "source": [
    "!pip install numpy matplotlib soundfile sounddevice scipy"
   ]
  },
  {
   "cell_type": "markdown",
   "id": "140fd262",
   "metadata": {},
   "source": [
    "escolhendo a saida e entrada de audio"
   ]
  },
  {
   "cell_type": "code",
   "execution_count": 5,
   "id": "a1735032",
   "metadata": {},
   "outputs": [],
   "source": [
    "import os\n",
    "\n",
    "import sounddevice as sd\n",
    "import numpy as np\n",
    "from scipy.io import wavfile"
   ]
  },
  {
   "cell_type": "markdown",
   "id": "7dec8734",
   "metadata": {},
   "source": [
    "O comando `sd.query_devices()` listará todas as **entradas** e **saídas** de áudio disponíveis no seu computador. \n",
    "\n",
    "A partir dessa lista, identifique qual é a sua **entrada** (microfone) e **saída** (alto-falante) de áudio desejada e atribua esses valores às variáveis `input_device` e `output_device`, respectivamente. Por exemplo,\n",
    "\n",
    "```\n",
    "   5 LG ULTRAWIDE (HD Audio Driver f, MME (0 in, 2 out)\n",
    "   6 Alto-falantes (3- Realtek(R) Au, MME (0 in, 2 out)\n",
    ">  7 Driver de captura de som primário, Windows DirectSound (2 in, 0 out)\n",
    "   8 Grupo de microfones (3- Tecnologia Intel® Smart Sound para microfones digitais), Windows DirectSound (2 in, 0 out)\n",
    "   9 Headset (QCY MeloBuds Pro), Windows DirectSound (1 in, 0 out)\n",
    "< 10 Driver de som primário, Windows DirectSound (0 in, 2 out)\n",
    "  11 Fones de ouvido (QCY MeloBuds Pro), Windows DirectSound (0 in, 8 out)\n",
    "  12 LG ULTRAWIDE (HD Audio Driver for Display Audio), Windows DirectSound (0 in, 2 out)\n",
    "```\n",
    "\n",
    "Para que o laboratorio funcione adequamente no meu computador devo escolher opcoes 7 , 10."
   ]
  },
  {
   "cell_type": "code",
   "execution_count": 6,
   "id": "0bb7a0df",
   "metadata": {},
   "outputs": [
    {
     "data": {
      "text/plain": [
       "   0 HDA Intel PCH: ALC887-VD Analog (hw:0,0), ALSA (2 in, 2 out)\n",
       "   1 HDA Intel PCH: ALC887-VD Alt Analog (hw:0,2), ALSA (2 in, 0 out)\n",
       "   2 HDA Intel HDMI: 0 (hw:1,3), ALSA (0 in, 8 out)\n",
       "   3 HDA Intel HDMI: 1 (hw:1,7), ALSA (0 in, 8 out)\n",
       "   4 HDA Intel HDMI: 2 (hw:1,8), ALSA (0 in, 8 out)\n",
       "   5 Loopback: PCM (hw:2,0), ALSA (32 in, 32 out)\n",
       "   6 Loopback: PCM (hw:2,1), ALSA (32 in, 32 out)\n",
       "   7 sysdefault, ALSA (128 in, 128 out)\n",
       "   8 front, ALSA (0 in, 2 out)\n",
       "   9 surround40, ALSA (0 in, 2 out)\n",
       "  10 surround51, ALSA (0 in, 2 out)\n",
       "  11 surround71, ALSA (0 in, 2 out)\n",
       "  12 pipewire, ALSA (64 in, 64 out)\n",
       "  13 dmix, ALSA (0 in, 2 out)\n",
       "* 14 default, ALSA (64 in, 64 out)"
      ]
     },
     "execution_count": 6,
     "metadata": {},
     "output_type": "execute_result"
    }
   ],
   "source": [
    "sd.query_devices()"
   ]
  },
  {
   "cell_type": "code",
   "execution_count": 7,
   "id": "49aa50d6",
   "metadata": {},
   "outputs": [],
   "source": [
    "output_device = 0\n",
    "input_device = 0\n",
    "sd.default.device = (input_device, output_device)"
   ]
  },
  {
   "cell_type": "markdown",
   "id": "1028dfe4",
   "metadata": {},
   "source": [
    "🎯 Execute o código abaixo para gravar um áudio de 3 segundos e, em seguida, reproduzi-lo.\n",
    "\n",
    "Caso a gravação ou reprodução não funcione corretamente, ajuste os valores das variáveis `input_device` (dispositivo de entrada) e `output_device` (dispositivo de saída) até que o código funcione como esperado."
   ]
  },
  {
   "cell_type": "code",
   "execution_count": 8,
   "id": "bc0e2af0",
   "metadata": {},
   "outputs": [
    {
     "name": "stdout",
     "output_type": "stream",
     "text": [
      "Gravação finalizada.\n",
      "Áudio salvo em captura.wav\n",
      "Se você escutou o audio tudo seu sistema está configurado corretamente!\n"
     ]
    }
   ],
   "source": [
    "DURATION = 3  # duraçao em segundos\n",
    "SAMPLE_RATE = 44100  # Hz\n",
    "FILENAME = \"captura.wav\"\n",
    "\n",
    "audio = sd.rec(int(DURATION * SAMPLE_RATE), samplerate=SAMPLE_RATE, channels=1, dtype='float32')\n",
    "sd.wait()\n",
    "print(\"Gravação finalizada.\")\n",
    "\n",
    "# Salvando arquivo de audio temporario\n",
    "max_val = np.max(np.abs(audio))\n",
    "if max_val > 0:\n",
    "    scaled = audio / max_val\n",
    "else:\n",
    "    scaled = audio\n",
    "wav_data = np.int16(scaled * 32767)\n",
    "wavfile.write(FILENAME, SAMPLE_RATE, wav_data)\n",
    "print(f\"Áudio salvo em {FILENAME}\")\n",
    "\n",
    "# Reproduz o áudio salvo\n",
    "fs, data = wavfile.read(FILENAME)\n",
    "sd.play(data, fs)\n",
    "sd.wait()\n",
    "os.remove(FILENAME)\n",
    "print('Se você escutou o audio tudo seu sistema está configurado corretamente!')"
   ]
  },
  {
   "cell_type": "markdown",
   "id": "44e14ab9",
   "metadata": {},
   "source": [
    "## Parametros de configurações"
   ]
  },
  {
   "cell_type": "code",
   "execution_count": 10,
   "id": "793f8e30",
   "metadata": {},
   "outputs": [],
   "source": [
    "import numpy as np\n",
    "import matplotlib.pyplot as plt\n",
    "import soundfile as sf\n",
    "import sounddevice as sd\n",
    "from scipy import signal\n",
    "import time"
   ]
  },
  {
   "cell_type": "markdown",
   "id": "575efe08",
   "metadata": {},
   "source": [
    "parametros de codificação"
   ]
  },
  {
   "cell_type": "code",
   "execution_count": 13,
   "id": "e7d45611",
   "metadata": {},
   "outputs": [],
   "source": [
    "##\n",
    "## configuracoes do audio (detalhes na secção de setup)\n",
    "##\n",
    "\n",
    "# output_device = 10\n",
    "# input_device = 7\n",
    "output_device = 0\n",
    "input_device = 0\n",
    "sd.default.device = (input_device, output_device)\n",
    "\n",
    "##\n",
    "## Configurações globais do exercio\n",
    "##\n",
    "SAMPLE_RATE = 44100  # Taxa de amostragem do audio\n",
    "BIT_DURATION = 1.0   # 1 segundo por bit\n",
    "FREQ_LOW = 440       # bit '0' (Lá)\n",
    "FREQ_HIGH = 880      # bit '1' (Lá oitava)"
   ]
  },
  {
   "cell_type": "markdown",
   "id": "6d1ed5f1",
   "metadata": {},
   "source": [
    "## Funções"
   ]
  },
  {
   "cell_type": "markdown",
   "id": "54141bd4",
   "metadata": {},
   "source": [
    "Nessa secao vocês encontraram as funcoes utilizadas"
   ]
  },
  {
   "cell_type": "code",
   "execution_count": 14,
   "id": "6ed0d29d",
   "metadata": {},
   "outputs": [],
   "source": [
    "import numpy as np\n",
    "import matplotlib.pyplot as plt\n",
    "import soundfile as sf\n",
    "import sounddevice as sd\n",
    "from scipy import signal\n",
    "import time"
   ]
  },
  {
   "cell_type": "markdown",
   "id": "fefeb064",
   "metadata": {},
   "source": [
    "### Gerador de tom & visualizacao"
   ]
  },
  {
   "cell_type": "code",
   "execution_count": 15,
   "id": "f8cdac5d",
   "metadata": {},
   "outputs": [],
   "source": [
    "def generate_tone(frequency, duration, sample_rate=SAMPLE_RATE):\n",
    "    \"\"\"\n",
    "    Gera um tom senoidal\n",
    "    \n",
    "    Args:\n",
    "        frequency: Frequência em Hz\n",
    "        duration: Duração em segundos\n",
    "        sample_rate: Taxa de amostragem\n",
    "    \n",
    "    Returns:\n",
    "        array: Sinal de áudio\n",
    "    \"\"\"\n",
    "    t = np.linspace(0, duration, int(sample_rate * duration), False)\n",
    "    # Aplica janela para suavizar transições\n",
    "    tone = np.sin(2 * np.pi * frequency * t)\n",
    "    # Janela de Hanning para evitar cliques\n",
    "    window = np.hanning(len(tone))\n",
    "    return tone * window"
   ]
  },
  {
   "cell_type": "code",
   "execution_count": 16,
   "id": "6e8d6e66",
   "metadata": {},
   "outputs": [],
   "source": [
    "def show(data:str,debug):\n",
    "    if debug==True:\n",
    "        print(data)"
   ]
  },
  {
   "cell_type": "code",
   "execution_count": 17,
   "id": "6c53704f",
   "metadata": {},
   "outputs": [],
   "source": [
    "def plot_signal(audio_signal, title, num_bits):\n",
    "    time_axis = np.linspace(0, len(audio_signal)/SAMPLE_RATE, len(audio_signal))\n",
    "    \n",
    "    plt.figure(figsize=(12, 4))\n",
    "    plt.plot(time_axis, audio_signal)\n",
    "    plt.title(title)\n",
    "    plt.xlabel('Tempo (s)')\n",
    "    plt.ylabel('Amplitude')\n",
    "    plt.grid(True, alpha=0.3)\n",
    "    \n",
    "    for i in range(1, num_bits): #divisões dos bits\n",
    "        plt.axvline(x=i*BIT_DURATION, color='red', linestyle='--', alpha=0.5)\n",
    "    \n",
    "    plt.tight_layout()\n",
    "    plt.show()"
   ]
  },
  {
   "cell_type": "markdown",
   "id": "b64f9ad5",
   "metadata": {},
   "source": [
    "### Codificadores"
   ]
  },
  {
   "cell_type": "code",
   "execution_count": 18,
   "id": "ea0ea089",
   "metadata": {},
   "outputs": [],
   "source": [
    "def encode_nrz(data_bits,debug=False):\n",
    "    \"\"\"\n",
    "    Codifica dados usando NRZ\n",
    "    \n",
    "    Args:\n",
    "        data_bits: string de bits (ex: \"10110\")\n",
    "    \n",
    "    Returns:\n",
    "        array: Sinal de áudio codificado\n",
    "    \"\"\"\n",
    "    audio_signal = np.array([])\n",
    "    \n",
    "    show(f\"Codificando NRZ: {data_bits}\",debug)\n",
    "    \n",
    "    for i, bit in enumerate(data_bits):\n",
    "        if bit == '1':\n",
    "            freq = FREQ_HIGH\n",
    "            show(f\"Bit {i}: '1' -> {freq} Hz\",debug)\n",
    "        else:\n",
    "            freq = FREQ_LOW\n",
    "            show(f\"Bit {i}: '0' -> {freq} Hz\",debug)\n",
    "        \n",
    "        tone = generate_tone(freq, BIT_DURATION)\n",
    "        audio_signal = np.concatenate([audio_signal, tone])\n",
    "    \n",
    "    return audio_signal"
   ]
  },
  {
   "cell_type": "code",
   "execution_count": 19,
   "id": "635aa26a",
   "metadata": {},
   "outputs": [],
   "source": [
    "def encode_nrzi(data_bits,debug=False):\n",
    "    \"\"\"\n",
    "    Codifica dados usando NRZI\n",
    "    \n",
    "    Args:\n",
    "        data_bits: string de bits\n",
    "    \n",
    "    Returns:\n",
    "        array: Sinal de áudio codificado\n",
    "    \"\"\"\n",
    "    pass\n",
    "    \n",
    "    return '0'"
   ]
  },
  {
   "cell_type": "code",
   "execution_count": 20,
   "id": "4a9fd019",
   "metadata": {},
   "outputs": [],
   "source": [
    "def encode_manchester(data_bits,debug=False):\n",
    "    \"\"\"\n",
    "    Codifica dados usando Manchester\n",
    "    \n",
    "    Args:\n",
    "        data_bits: string de bits\n",
    "    \n",
    "    Returns:\n",
    "        array: Sinal de áudio codificado\n",
    "    \"\"\"\n",
    "    audio_signal = np.array([])\n",
    "    \n",
    "    show(f\"Codificando Manchester: {data_bits}\",debug)\n",
    "    \n",
    "    for i, bit in enumerate(data_bits):\n",
    "        if bit == '1':\n",
    "            # Bit '1': alto->baixo (primeira metade alta, segunda baixa)\n",
    "            tone1 = generate_tone(FREQ_HIGH, BIT_DURATION/2)\n",
    "            tone2 = generate_tone(FREQ_LOW, BIT_DURATION/2)\n",
    "            show(f\"Bit {i}: '1' -> {FREQ_HIGH}Hz -> {FREQ_LOW}Hz\",debug)\n",
    "        else:\n",
    "            # Bit '0': baixo->alto (primeira metade baixa, segunda alta)\n",
    "            tone1 = generate_tone(FREQ_LOW, BIT_DURATION/2)\n",
    "            tone2 = generate_tone(FREQ_HIGH, BIT_DURATION/2)\n",
    "            show(f\"Bit {i}: '0' -> {FREQ_LOW}Hz -> {FREQ_HIGH}Hz\",debug)\n",
    "        \n",
    "        bit_signal = np.concatenate([tone1, tone2])\n",
    "        audio_signal = np.concatenate([audio_signal, bit_signal])\n",
    "    \n",
    "    return audio_signal"
   ]
  },
  {
   "cell_type": "markdown",
   "id": "dbe8d719",
   "metadata": {},
   "source": [
    "### Decodificadores"
   ]
  },
  {
   "cell_type": "markdown",
   "id": "e4204d7a",
   "metadata": {},
   "source": [
    "#### Detector de frequência"
   ]
  },
  {
   "attachments": {
    "Untitled-2.png": {
     "image/png": "[encoded data removed]"
    },
    "Untitled-3.png": {
     "image/png": "[encoded data removed]"
    },
    "Untitled.png": {
     "image/png": "[encoded data removed]"
    }
   },
   "cell_type": "markdown",
   "id": "78f7009b",
   "metadata": {},
   "source": [
    "Neste trecho de código, vamos utilizar a **Transformada Rápida de Fourier (FFT)** para detectar frequências dominantes em segmentos de áudio — uma ferramenta para análise espectral de sinais. Utilizamos esse conceito em sala de aula para ilustrar o conceito de **modulação por divisão de frequência (FDM)**. Esse codigos detectaram os bits `0` e `1` em razão das fequências que estabelessemos. \n",
    "\n",
    "A função `detect_frequency` tem como objetivo identificar as frequências que compõem um sinal de áudio modulado. Na Figura 1, vemos duas senoides (uma azul e uma vermelha), representando frequências distintas associadas aos bits `'0'` e `'1'`. Essas senoides são combinadas para formar o sinal apresentado na Figura 2, o qual será analisado.\n",
    "\n",
    "\n",
    "| Figura 1 | Figura 2 | \n",
    "| :-:   | :-: |\n",
    "| ![Figura-1.png](attachment:Untitled.png) | ![Figura-2.png](attachment:Untitled-3.png) |\n",
    "\n",
    "O código utiliza a FFT para detectar os picos de frequência presentes no sinal composto. Esses picos — visíveis no gráfico espectral gerado pela FFT (Figura 3) — correspondem exatamente às componentes originais da modulação, permitindo que cada segmento de áudio seja interpretado como `'0'` ou `'1'` com base em qual frequência está presente.\n",
    "\n",
    "![Figura-3.png](attachment:Untitled-2.png)\n",
    "\n",
    "Assim como vimos em sala de aula, essa abordagem ilustra o processo de demodulação por frequência, fundamental no modelo de transmissão FDM (Frequency Division Multiplexing).\n",
    "\n",
    "Já a função `frequency_to_bit` interpreta a frequência detectada como um bit binário, comparando-a com um limiar: se for superior ao valor definido, retorna `'1'`; caso contrário, `'0'`. Esse processo simula uma decodificação simples de sinais FDM com base na presença de faixas de frequência distintas.\n",
    "\n",
    "\n",
    "🔧 **Observação**: valores como `SAMPLE_RATE` e o `threshold` devem estar de acordo com as frequências utilizadas (ja configurados no inicio do notebook) durante a modulação para garantir a correta detecção dos dados transmitidos."
   ]
  },
  {
   "cell_type": "code",
   "execution_count": 21,
   "id": "bea91b48",
   "metadata": {},
   "outputs": [],
   "source": [
    "def detect_frequency(audio_segment, sample_rate=SAMPLE_RATE):\n",
    "    \"\"\"\n",
    "    Detecta a frequência dominante em um segmento de áudio\n",
    "    \n",
    "    Args:\n",
    "        audio_segment: Segmento de áudio\n",
    "        sample_rate: Taxa de amostragem\n",
    "    \n",
    "    Returns:\n",
    "        float: Frequência detectada\n",
    "    \"\"\"\n",
    "    # FFT para análise espectral\n",
    "    fft = np.fft.fft(audio_segment)\n",
    "    freqs = np.fft.fftfreq(len(fft), 1/sample_rate)\n",
    "    \n",
    "    # Considera apenas frequências positivas\n",
    "    magnitude = np.abs(fft[:len(fft)//2])\n",
    "    freqs_positive = freqs[:len(freqs)//2]\n",
    "    \n",
    "    # Encontra o pico de frequência\n",
    "    peak_idx = np.argmax(magnitude)\n",
    "    detected_freq = abs(freqs_positive[peak_idx])\n",
    "    \n",
    "    return detected_freq\n",
    "\n",
    "def frequency_to_bit(frequency, threshold=660):\n",
    "    \"\"\"\n",
    "    Converte frequência detectada em bit\n",
    "    \n",
    "    Args:\n",
    "        frequency: Frequência detectada\n",
    "        threshold: Limiar para decisão (média entre FREQ_LOW e FREQ_HIGH)\n",
    "    \n",
    "    Returns:\n",
    "        str: '0' ou '1'\n",
    "    \"\"\"\n",
    "    return '1' if frequency > threshold else '0'"
   ]
  },
  {
   "cell_type": "markdown",
   "id": "fc87e518",
   "metadata": {},
   "source": [
    "#### Decoders"
   ]
  },
  {
   "cell_type": "code",
   "execution_count": 22,
   "id": "e34beca7",
   "metadata": {},
   "outputs": [],
   "source": [
    "def decode_nrz(audio_signal, num_bits, sample_rate=SAMPLE_RATE,debug=False):\n",
    "    \"\"\"\n",
    "    Decodifica sinal NRZ\n",
    "    \n",
    "    Args:\n",
    "        audio_signal: Sinal de áudio\n",
    "        num_bits: Número esperado de bits\n",
    "        sample_rate: Taxa de amostragem\n",
    "    \n",
    "    Returns:\n",
    "        str: Bits decodificados\n",
    "    \"\"\"\n",
    "    samples_per_bit = int(sample_rate * BIT_DURATION)\n",
    "    decoded_bits = \"\"\n",
    "    \n",
    "    show(\"Decodificando NRZ:\",debug)\n",
    "    \n",
    "    for i in range(num_bits):\n",
    "        start_idx = i * samples_per_bit\n",
    "        end_idx = start_idx + samples_per_bit\n",
    "        \n",
    "        if end_idx > len(audio_signal):\n",
    "            show(f\"Aviso: Áudio muito curto para {num_bits} bits\",debug)\n",
    "            break\n",
    "        \n",
    "        # Analisa o meio do bit para evitar transições\n",
    "        mid_start = start_idx + samples_per_bit // 4\n",
    "        mid_end = end_idx - samples_per_bit // 4\n",
    "        segment = audio_signal[mid_start:mid_end]\n",
    "        \n",
    "        freq = detect_frequency(segment, sample_rate)\n",
    "        bit = frequency_to_bit(freq)\n",
    "        decoded_bits += bit\n",
    "        \n",
    "        show(f\"Bit {i}: freq={freq:.1f}Hz -> '{bit}'\",debug)\n",
    "    \n",
    "    return decoded_bits"
   ]
  },
  {
   "cell_type": "code",
   "execution_count": 23,
   "id": "31117a27",
   "metadata": {},
   "outputs": [],
   "source": [
    "def decode_nrzi(audio_signal, num_bits, sample_rate=SAMPLE_RATE,debug=False):\n",
    "    \"\"\"\n",
    "    Decodifica sinal NRZI\n",
    "    \"\"\"\n",
    "\n",
    "    pass\n",
    "    \n",
    "    return '0'"
   ]
  },
  {
   "cell_type": "code",
   "execution_count": 24,
   "id": "a586091c",
   "metadata": {},
   "outputs": [],
   "source": [
    "def decode_manchester(audio_signal, num_bits, sample_rate=SAMPLE_RATE,debug=False):\n",
    "    \"\"\"\n",
    "    Decodifica sinal Manchester\n",
    "    \"\"\"\n",
    "    samples_per_bit = int(sample_rate * BIT_DURATION)\n",
    "    decoded_bits = \"\"\n",
    "    \n",
    "    show(\"Decodificando Manchester:\",debug)\n",
    "    \n",
    "    for i in range(num_bits):\n",
    "        start_idx = i * samples_per_bit\n",
    "        end_idx = start_idx + samples_per_bit\n",
    "        \n",
    "        if end_idx > len(audio_signal):\n",
    "            break\n",
    "        \n",
    "        # Analisa primeira e segunda metade do bit\n",
    "        mid_point = start_idx + samples_per_bit // 2\n",
    "        \n",
    "        # Primeira metade\n",
    "        first_half = audio_signal[start_idx + samples_per_bit//8 : mid_point - samples_per_bit//8]\n",
    "        freq1 = detect_frequency(first_half, sample_rate)\n",
    "        state1 = frequency_to_bit(freq1)\n",
    "        \n",
    "        # Segunda metade\n",
    "        second_half = audio_signal[mid_point + samples_per_bit//8 : end_idx - samples_per_bit//8]\n",
    "        freq2 = detect_frequency(second_half, sample_rate)\n",
    "        state2 = frequency_to_bit(freq2)\n",
    "        \n",
    "        # Determina o bit baseado na transição\n",
    "        if state1 == '1' and state2 == '0': # Alto -> Baixo\n",
    "            bit = '1'  \n",
    "            show(f\"Bit {i}: {freq1:.1f}Hz -> {freq2:.1f}Hz = alto->baixo = '1'\",debug)\n",
    "        elif state1 == '0' and state2 == '1': # Baixo -> Alto\n",
    "            bit = '0'  \n",
    "            show(f\"Bit {i}: {freq1:.1f}Hz -> {freq2:.1f}Hz = baixo->alto = '0'\",debug)\n",
    "        else: # Erro de decodificação\n",
    "            bit = '?'  \n",
    "            show(f\"Bit {i}: {freq1:.1f}Hz -> {freq2:.1f}Hz = ERRO na transição\",debug)\n",
    "        \n",
    "        decoded_bits += bit\n",
    "    \n",
    "    return decoded_bits"
   ]
  },
  {
   "cell_type": "markdown",
   "id": "2258b292",
   "metadata": {},
   "source": [
    "## O Laboratório"
   ]
  },
  {
   "cell_type": "code",
   "execution_count": 25,
   "id": "ae87a7b6",
   "metadata": {},
   "outputs": [],
   "source": [
    "##\n",
    "## configuracoes do audio (detalhes na secção de setup)\n",
    "##\n",
    "# output_device = 10\n",
    "# input_device = 7\n",
    "output_device = 0\n",
    "input_device = 0\n",
    "sd.default.device = (input_device, output_device)\n",
    "\n",
    "##\n",
    "## Configurações globais do exercio\n",
    "##\n",
    "SAMPLE_RATE = 44100  # Taxa de amostragem do audio\n",
    "BIT_DURATION = 1.0   # 1 segundo por bit\n",
    "FREQ_LOW = 440       # bit '0' (Lá)\n",
    "FREQ_HIGH = 880      # bit '1' (Lá oitava)"
   ]
  },
  {
   "cell_type": "markdown",
   "id": "60a80e5f",
   "metadata": {},
   "source": [
    "### Etapa 1: Compreendendo com a Codificação/Modulação de dados"
   ]
  },
  {
   "cell_type": "markdown",
   "id": "c248f7b2",
   "metadata": {},
   "source": [
    "Nessa seção você deve se familiariazar com algumas das funações de codificação (modulação) vista em sala de aula"
   ]
  },
  {
   "cell_type": "code",
   "execution_count": 28,
   "id": "63944866",
   "metadata": {},
   "outputs": [
    {
     "name": "stdout",
     "output_type": "stream",
     "text": [
      "Dados originais: 11001\n",
      "\n"
     ]
    }
   ],
   "source": [
    "test_bits = \"11001\"\n",
    "print(f\"Dados originais: {test_bits}\\n\")"
   ]
  },
  {
   "cell_type": "code",
   "execution_count": 29,
   "id": "ed6e9f04",
   "metadata": {},
   "outputs": [
    {
     "name": "stdout",
     "output_type": "stream",
     "text": [
      "1. NRZ:\n",
      "Codificando NRZ: 11001\n",
      "Bit 0: '1' -> 880 Hz\n",
      "Bit 1: '1' -> 880 Hz\n",
      "Bit 2: '0' -> 440 Hz\n",
      "Bit 3: '0' -> 440 Hz\n",
      "Bit 4: '1' -> 880 Hz\n",
      "\n",
      "3. Manchester:\n",
      "Codificando Manchester: 11001\n",
      "Bit 0: '1' -> 880Hz -> 440Hz\n",
      "Bit 1: '1' -> 880Hz -> 440Hz\n",
      "Bit 2: '0' -> 440Hz -> 880Hz\n",
      "Bit 3: '0' -> 440Hz -> 880Hz\n",
      "Bit 4: '1' -> 880Hz -> 440Hz\n"
     ]
    }
   ],
   "source": [
    "# Testa cada modulação\n",
    "print(\"1. NRZ:\")\n",
    "nrz_signal = encode_nrz(test_bits,debug=True)\n",
    "\n",
    "print(\"\\n3. Manchester:\")\n",
    "manchester_signal = encode_manchester(test_bits,debug=True)"
   ]
  },
  {
   "cell_type": "markdown",
   "id": "d6567623",
   "metadata": {},
   "source": [
    "**Escutando os dados** como a nossa proposta é utilizar notas músicais (som) para representar `0` e `1`. Vamos escutalos."
   ]
  },
  {
   "cell_type": "code",
   "execution_count": 33,
   "id": "15d084b4",
   "metadata": {},
   "outputs": [],
   "source": [
    "sd.play(manchester_signal, SAMPLE_RATE)\n",
    "sd.wait()"
   ]
  },
  {
   "cell_type": "code",
   "execution_count": 31,
   "id": "8ddfb41e",
   "metadata": {},
   "outputs": [],
   "source": [
    "sd.play(nrz_signal, SAMPLE_RATE)\n",
    "sd.wait()"
   ]
  },
  {
   "cell_type": "markdown",
   "id": "21b76b8f",
   "metadata": {},
   "source": [
    "Você pode visualizar a modulação utilizando plots, com abaixo"
   ]
  },
  {
   "cell_type": "code",
   "execution_count": 32,
   "id": "19b057cf",
   "metadata": {},
   "outputs": [
    {
     "data": {
      "image/png": "[encoded data removed]",
      "text/plain": [
       "<Figure size 1200x400 with 1 Axes>"
      ]
     },
     "metadata": {},
     "output_type": "display_data"
    }
   ],
   "source": [
    "plot_signal(nrz_signal,'NRZ',len(test_bits))"
   ]
  },
  {
   "attachments": {
    "internet-discada-700x350.webp": {
     "image/webp": "[encoded data removed]"
    }
   },
   "cell_type": "markdown",
   "id": "ff57b133",
   "metadata": {},
   "source": [
    "##### Esse modulação foi utilizada nos primórdios da internet (internet discada)\n",
    "\n",
    "![internet-discada-700x350.webp](attachment:internet-discada-700x350.webp)"
   ]
  },
  {
   "cell_type": "markdown",
   "id": "6a8db01e",
   "metadata": {},
   "source": [
    "A internet discada utilizava modulação analógica para transportar dados digitais pela linha telefônica. Nos primeiros modems — como os que seguiram o padrão Bell 103 — a técnica predominante foi a Frequency Shift Keying (FSK), onde duas frequências distintas (uma para o bit 0 e outra para o bit 1) eram usadas para representar os dados.\n",
    "\n",
    "Para quem não teve a oportunidade de utilizar a internet discada o video abaixo ilustra bem o processo de modulação utilizada\n",
    "\n",
    "<iframe width=\"560\" height=\"315\" src=\"https://www.youtube.com/embed/ofVEEWObx_I?si=VzAD8hgPPeyXFSRn\" title=\"YouTube video player\" frameborder=\"0\" allow=\"accelerometer; autoplay; clipboard-write; encrypted-media; gyroscope; picture-in-picture; web-share\" referrerpolicy=\"strict-origin-when-cross-origin\" allowfullscreen></iframe>"
   ]
  },
  {
   "cell_type": "markdown",
   "id": "e74c04e9",
   "metadata": {},
   "source": [
    "### Etapa 2: Decodificação"
   ]
  },
  {
   "cell_type": "markdown",
   "id": "e87227c3",
   "metadata": {},
   "source": [
    "Nesta etapa vocês irão  recuperar os dados originais a partir do sinal de áudio recebido. Este é o papel do receptor em um sistema de comunicação.\n",
    "\n",
    "O promeiro passo para a decodificação (demodulação) em um mundo ideal é salvar o resultado da modulação em um arquivo de audio (.wav)"
   ]
  },
  {
   "cell_type": "code",
   "execution_count": 45,
   "id": "b264ec84",
   "metadata": {},
   "outputs": [
    {
     "name": "stdout",
     "output_type": "stream",
     "text": [
      "nrz decodificado 0111111101\n",
      "manchester decodificado ??????????\n"
     ]
    }
   ],
   "source": [
    "DURATION = 3  # duraçao em segundos\n",
    "SAMPLE_RATE = 44100  # Hz\n",
    "FILENAME = \"dados_31_44100hz.wav\"\n",
    "\n",
    "# Reproduz o áudio salvo\n",
    "fs, data = wavfile.read(FILENAME)\n",
    "sd.play(data, fs)\n",
    "sd.wait()\n",
    "\n",
    "# NRZ\n",
    "nrz_signal = decode_nrz(data, num_bits=16, sample_rate=SAMPLE_RATE)\n",
    "print('nrz decodificado', nrz_signal)\n",
    "\n",
    "# Manchester\n",
    "manchester_signal = decode_manchester(data, num_bits=16, sample_rate=SAMPLE_RATE)\n",
    "print('manchester decodificado', manchester_signal)\n"
   ]
  },
  {
   "cell_type": "code",
   "execution_count": null,
   "id": "116a4a00",
   "metadata": {},
   "outputs": [
    {
     "name": "stdout",
     "output_type": "stream",
     "text": [
      "\n",
      "Dados originais: 0111111101\n",
      "Número de bits: 10\n",
      "\n"
     ]
    }
   ],
   "source": [
    "original_data = nrz_signal\n",
    "\n",
    "print(f\"\\nDados originais: {nrz_signal}\")\n",
    "print(f\"Número de bits: {len(nrz_signal)}\\n\")"
   ]
  },
  {
   "cell_type": "markdown",
   "id": "57be88c6",
   "metadata": {},
   "source": [
    "Para evitar efeitos de atenuação e interferencias vamos realizar a decodificação diretamente do arquivo de audio."
   ]
  },
  {
   "cell_type": "code",
   "execution_count": 49,
   "id": "abb1bce3",
   "metadata": {},
   "outputs": [
    {
     "name": "stdout",
     "output_type": "stream",
     "text": [
      "1. Decodificando NRZ:\n",
      "Original: 0111111101\n",
      "Decodificado: 0111111101\n",
      "Correto: True\n",
      "\n"
     ]
    }
   ],
   "source": [
    "# Testa decodificação NRZ\n",
    "print(\"1. Decodificando NRZ:\")\n",
    "nrz_audio, _ = sf.read('dados_31_44100hz.wav')\n",
    "decoded_nrz = decode_nrz(nrz_audio, len(original_data))\n",
    "print(f\"Original: {original_data}\")\n",
    "print(f\"Decodificado: {decoded_nrz}\")\n",
    "print(f\"Correto: {original_data == decoded_nrz}\\n\")"
   ]
  },
  {
   "cell_type": "code",
   "execution_count": 52,
   "id": "2a2cae6a",
   "metadata": {},
   "outputs": [
    {
     "name": "stdout",
     "output_type": "stream",
     "text": [
      "3. Decodificando Manchester:\n",
      "Original: 0111111101\n",
      "Decodificado: ??????????\n",
      "Correto: False\n"
     ]
    }
   ],
   "source": [
    "# Testa decodificação Manchester\n",
    "print(\"3. Decodificando Manchester:\")\n",
    "manchester_audio, _ = sf.read('dados_31_44100hz.wav')\n",
    "decoded_manchester = decode_manchester(manchester_audio, len(original_data))\n",
    "print(f\"Original: {original_data}\")\n",
    "print(f\"Decodificado: {decoded_manchester}\")\n",
    "print(f\"Correto: {original_data == decoded_manchester}\")"
   ]
  },
  {
   "cell_type": "markdown",
   "id": "0aeff32a",
   "metadata": {},
   "source": [
    "### Etapa 3: Impacto do Ruído na Comunicação"
   ]
  },
  {
   "cell_type": "markdown",
   "id": "8e3c695f",
   "metadata": {},
   "source": [
    "Simulação de decodificação em condições adversas, o metodo abaixo simula a adição de ruído ao sinal."
   ]
  },
  {
   "cell_type": "code",
   "execution_count": 53,
   "id": "63b89ab7",
   "metadata": {},
   "outputs": [],
   "source": [
    "def adicionar_ruido(audio_signal, snr_db=-12):\n",
    "    \"\"\"\n",
    "    Adiciona ruído gaussiano ao sinal\n",
    "    \n",
    "    Args:\n",
    "        audio_signal: Sinal original\n",
    "        snr_db: Relação sinal-ruído em dB\n",
    "    \n",
    "    Returns:\n",
    "        array: Sinal com ruído\n",
    "    \"\"\"\n",
    "    # Calcula potência do sinal\n",
    "    signal_power = np.mean(audio_signal ** 2)\n",
    "    \n",
    "    # Calcula potência do ruído baseada no SNR\n",
    "    snr_linear = 10 ** (snr_db / 10)\n",
    "    noise_power = signal_power / snr_linear\n",
    "    \n",
    "    # Gera ruído gaussiano\n",
    "    noise = np.random.normal(0, np.sqrt(noise_power), len(audio_signal))\n",
    "    \n",
    "    return audio_signal + noise"
   ]
  },
  {
   "cell_type": "markdown",
   "id": "16d807fe",
   "metadata": {},
   "source": [
    "Para adicionar ruido utilize um valor **negativo** no `snr_db`. Por exemplo se você quiser um ruido de 3db utilize `snr_db=-3` no metodo.\n",
    "\n",
    "A baixo veja a menssagem original"
   ]
  },
  {
   "cell_type": "code",
   "execution_count": 54,
   "id": "6e8336c9",
   "metadata": {},
   "outputs": [],
   "source": [
    "original_bits = \"00111000\""
   ]
  },
  {
   "cell_type": "code",
   "execution_count": 87,
   "id": "be54f426",
   "metadata": {},
   "outputs": [
    {
     "name": "stdout",
     "output_type": "stream",
     "text": [
      "  Original: 00111000\n",
      "  Decodificado: 10111111\n",
      "  Correto: False\n",
      "\n"
     ]
    }
   ],
   "source": [
    "snr=-55\n",
    "\n",
    "clean_signal = encode_nrz(original_bits)\n",
    "\n",
    "noisy_signal = adicionar_ruido(clean_signal, snr)\n",
    "decoded = decode_nrz(noisy_signal, len(original_bits))\n",
    "print(f\"  Original: {original_bits}\")\n",
    "print(f\"  Decodificado: {decoded}\")\n",
    "print(f\"  Correto: {original_bits == decoded}\\n\")"
   ]
  },
  {
   "cell_type": "markdown",
   "id": "05ba4312",
   "metadata": {},
   "source": [
    "### Etapa 4: Decodificação no mundo real"
   ]
  },
  {
   "cell_type": "code",
   "execution_count": null,
   "id": "24ee4786",
   "metadata": {},
   "outputs": [],
   "source": [
    "def capturar_do_microfone(duracao_segundos):\n",
    "    \"\"\"\n",
    "    Captura áudio do microfone\n",
    "    \n",
    "    Args:\n",
    "        duracao_segundos: Duração da captura\n",
    "    \n",
    "    Returns:\n",
    "        array: Áudio capturado\n",
    "    \"\"\"\n",
    "    print(f\"Iniciando captura por {duracao_segundos} segundos...\")\n",
    "    print(\"Reproduza o áudio no seu celular AGORA!\")\n",
    "    \n",
    "    # Captura áudio\n",
    "    audio_capturado = sd.rec(\n",
    "        int(duracao_segundos * SAMPLE_RATE), \n",
    "        samplerate=SAMPLE_RATE, \n",
    "        channels=1\n",
    "    )\n",
    "    sd.wait()  # Aguarda terminar a captura\n",
    "    \n",
    "    print(\"Captura concluída!\")\n",
    "    return audio_capturado.flatten()"
   ]
  },
  {
   "cell_type": "code",
   "execution_count": null,
   "id": "566b749b",
   "metadata": {},
   "outputs": [],
   "source": [
    "import random\n",
    "import csv\n",
    "\n",
    "\n",
    "def gerar_string_binaria(n):\n",
    "    return ''.join(random.choice('01') for _ in range(n))\n",
    "\n",
    "\n",
    "def gerar_questao(n,start=8,stop=16):\n",
    "    dados = []\n",
    "    for i in range(n):\n",
    "        n_bits = random.randrange(start,stop)\n",
    "        msg = gerar_string_binaria(n_bits)\n",
    "        encoder = random.choice([encode_manchester, encode_nrz])\n",
    "        modulacao = encoder.__name__\n",
    "        nome = f\"dados_{i}_{SAMPLE_RATE}hz.wav\"\n",
    "        sinal = encoder(msg)\n",
    "        sf.write(nome, sinal, SAMPLE_RATE)\n",
    "        \n",
    "        linha = {\n",
    "            'arquivo':nome,\n",
    "            'msg': msg,\n",
    "            'n_bits':n_bits,\n",
    "            'modulacao':modulacao\n",
    "        }\n",
    "        dados.append(linha)\n",
    "        # print(n_bits,msg,modulacao,nome,len(sinal))\n",
    "    # print(dados):\n",
    "    \n",
    "    nome_arquivo = 'gabarito.csv'\n",
    "\n",
    "    # Escrita no arquivo CSV\n",
    "    with open(nome_arquivo, mode='w', newline='', encoding='utf-8') as f:\n",
    "        writer = csv.DictWriter(f, fieldnames=dados[0].keys())\n",
    "        writer.writeheader()\n",
    "        writer.writerows(dados)\n",
    "\n",
    "\n",
    "\n",
    "gerar_questao(50)"
   ]
  },
  {
   "cell_type": "markdown",
   "id": "67bdfb47",
   "metadata": {},
   "source": [
    "Para este exercício, você deverá utilizar um **segundo dispositivo**, como por exemplo, seu **celular**.\n",
    "\n",
    "1. Copie o arquivo de áudio [dados_ar.wav](./dados_ar.wav) para o segundo dispositivo.\n",
    "2. Este áudio contém uma **mensagem de 5 bits**, codificada utilizando o esquema **Manchester**.\n",
    "3. O desafio consiste em **decodificar essa mensagem utilizando apenas o microfone do seu computador**.  \n",
    "   **Não abra o arquivo diretamente** no computador — apenas reproduza o áudio no segundo dispositivo.\n",
    "\n",
    "> 🧪 Certifique-se de que os [procedimentos de configuração](#setup) foram seguidos corretamente e que o microfone do seu computador está funcionando adequadamente.\n",
    "\n",
    "Por fim, **execute o código abaixo** (referente à etapa de escuta por microfone) e reproduza o áudio no segundo dispositivo para tentar decodificar a mensagem."
   ]
  },
  {
   "cell_type": "code",
   "execution_count": null,
   "id": "43f56112",
   "metadata": {},
   "outputs": [],
   "source": [
    "# test_data = \"10110\"\n",
    "# Captura áudio\n",
    "\n",
    "duracao = 5 * BIT_DURATION + 1  # +1 segundo de margem\n",
    "audio_capturado = capturar_do_microfone(duracao)\n",
    "\n",
    "# Salva captura para análise\n",
    "sf.write('captura_microfone.wav', audio_capturado, SAMPLE_RATE)\n",
    "\n",
    "# Tenta decodificar\n",
    "print(\"\\nTentando decodificar...\")\n",
    "decoded = decode_manchester(audio_capturado, 5)\n",
    "\n",
    "print(f\"Original: ?????\")\n",
    "print(f\"Capturado: {decoded}\")"
   ]
  }
 ],
 "metadata": {
  "kernelspec": {
   "display_name": ".venv",
   "language": "python",
   "name": "python3"
  },
  "language_info": {
   "codemirror_mode": {
    "name": "ipython",
    "version": 3
   },
   "file_extension": ".py",
   "mimetype": "text/x-python",
   "name": "python",
   "nbconvert_exporter": "python",
   "pygments_lexer": "ipython3",
   "version": "3.12.3"
  }
 },
 "nbformat": 4,
 "nbformat_minor": 5
}
